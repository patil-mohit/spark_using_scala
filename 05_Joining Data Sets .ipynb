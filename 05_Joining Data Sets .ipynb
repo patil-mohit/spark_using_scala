{
 "cells": [
  {
   "cell_type": "markdown",
   "metadata": {},
   "source": [
    "# Prepare Datasets for Join"
   ]
  },
  {
   "cell_type": "markdown",
   "metadata": {},
   "source": [
    "Let us prepare datasets to Join\n",
    "- Make sure airport-codes is in HDFS\n",
    "- We will also use airlines data for the month of January 2008. We have used that data set in the past as well."
   ]
  },
  {
   "cell_type": "code",
   "execution_count": 1,
   "metadata": {},
   "outputs": [],
   "source": [
    "import sys.process._"
   ]
  },
  {
   "cell_type": "code",
   "execution_count": 2,
   "metadata": {},
   "outputs": [
    {
     "name": "stdout",
     "output_type": "stream",
     "text": [
      "Found 3 items\n",
      "drwxr-xr-x   - hdfs hdfs          0 2019-11-21 10:07 /public/airlines_all/airlines\n",
      "drwxr-xr-x   - hdfs hdfs          0 2020-03-11 13:15 /public/airlines_all/airlines-part\n",
      "drwxr-xr-x   - hdfs hdfs          0 2019-11-26 18:32 /public/airlines_all/airport-codes\n"
     ]
    },
    {
     "data": {
      "text/plain": [
       "warning: there was one feature warning; re-run with -feature for details\n"
      ]
     },
     "metadata": {},
     "output_type": "display_data",
     "source": "user"
    },
    {
     "data": {
      "text/plain": [
       "0"
      ]
     },
     "execution_count": 2,
     "metadata": {},
     "output_type": "execute_result"
    }
   ],
   "source": [
    "\"hdfs dfs -ls /public/airlines_all/\" !"
   ]
  },
  {
   "cell_type": "code",
   "execution_count": null,
   "metadata": {},
   "outputs": [],
   "source": [
    "\"hdfs dfs -ls /public/airlines_all/airlines-part\" !"
   ]
  },
  {
   "cell_type": "markdown",
   "metadata": {},
   "source": [
    "## Starting Spark Context"
   ]
  },
  {
   "cell_type": "code",
   "execution_count": 1,
   "metadata": {},
   "outputs": [
    {
     "data": {
      "text/plain": [
       "spark = org.apache.spark.sql.SparkSession@1373c13f\n"
      ]
     },
     "metadata": {},
     "output_type": "display_data",
     "source": "user"
    },
    {
     "data": {
      "text/plain": [
       "org.apache.spark.sql.SparkSession@1373c13f"
      ]
     },
     "execution_count": 1,
     "metadata": {},
     "output_type": "execute_result"
    }
   ],
   "source": [
    "import org.apache.spark.sql.SparkSession\n",
    "\n",
    "val spark = SparkSession.\n",
    "    builder.\n",
    "    config(\"spark.ui.port\",\"0\").\n",
    "    appName(\"Basic Transformations\").\n",
    "    master(\"yarn\").\n",
    "    getOrCreate"
   ]
  },
  {
   "cell_type": "code",
   "execution_count": 3,
   "metadata": {},
   "outputs": [],
   "source": [
    "spark.conf.set(\"spark.sql.shuffle.partitions\", \"2\")"
   ]
  },
  {
   "cell_type": "code",
   "execution_count": 4,
   "metadata": {},
   "outputs": [],
   "source": [
    "import spark.implicits._"
   ]
  },
  {
   "cell_type": "markdown",
   "metadata": {},
   "source": [
    "## Analyze Datasets for Join"
   ]
  },
  {
   "cell_type": "markdown",
   "metadata": {},
   "source": [
    "Let us analyze data sets that are gooing to be used for joins "
   ]
  },
  {
   "cell_type": "markdown",
   "metadata": {},
   "source": [
    "- We will use January 2008 airlines dat which have all relevant details\n",
    "- Let us read and review the airlines data quickly"
   ]
  },
  {
   "cell_type": "code",
   "execution_count": 1,
   "metadata": {},
   "outputs": [
    {
     "data": {
      "text/plain": [
       "airlines = [Year: int, Month: int ... 29 more fields]\n"
      ]
     },
     "metadata": {},
     "output_type": "display_data",
     "source": "user"
    },
    {
     "data": {
      "text/plain": [
       "[Year: int, Month: int ... 29 more fields]"
      ]
     },
     "execution_count": 1,
     "metadata": {},
     "output_type": "execute_result"
    }
   ],
   "source": [
    "val airlines = spark.\n",
    "    read.\n",
    "    parquet(\"/public/airlines_all/airlines-part/flightmonth=200801\")"
   ]
  },
  {
   "cell_type": "code",
   "execution_count": 8,
   "metadata": {},
   "outputs": [
    {
     "name": "stdout",
     "output_type": "stream",
     "text": [
      "root\n",
      " |-- Year: integer (nullable = true)\n",
      " |-- Month: integer (nullable = true)\n",
      " |-- DayofMonth: integer (nullable = true)\n",
      " |-- DayOfWeek: integer (nullable = true)\n",
      " |-- DepTime: string (nullable = true)\n",
      " |-- CRSDepTime: integer (nullable = true)\n",
      " |-- ArrTime: string (nullable = true)\n",
      " |-- CRSArrTime: integer (nullable = true)\n",
      " |-- UniqueCarrier: string (nullable = true)\n",
      " |-- FlightNum: integer (nullable = true)\n",
      " |-- TailNum: string (nullable = true)\n",
      " |-- ActualElapsedTime: string (nullable = true)\n",
      " |-- CRSElapsedTime: integer (nullable = true)\n",
      " |-- AirTime: string (nullable = true)\n",
      " |-- ArrDelay: string (nullable = true)\n",
      " |-- DepDelay: string (nullable = true)\n",
      " |-- Origin: string (nullable = true)\n",
      " |-- Dest: string (nullable = true)\n",
      " |-- Distance: string (nullable = true)\n",
      " |-- TaxiIn: string (nullable = true)\n",
      " |-- TaxiOut: string (nullable = true)\n",
      " |-- Cancelled: integer (nullable = true)\n",
      " |-- CancellationCode: string (nullable = true)\n",
      " |-- Diverted: integer (nullable = true)\n",
      " |-- CarrierDelay: string (nullable = true)\n",
      " |-- WeatherDelay: string (nullable = true)\n",
      " |-- NASDelay: string (nullable = true)\n",
      " |-- SecurityDelay: string (nullable = true)\n",
      " |-- LateAircraftDelay: string (nullable = true)\n",
      " |-- IsArrDelayed: string (nullable = true)\n",
      " |-- IsDepDelayed: string (nullable = true)\n",
      "\n"
     ]
    }
   ],
   "source": [
    "airlines.printSchema"
   ]
  },
  {
   "cell_type": "markdown",
   "metadata": {},
   "source": [
    "- We will be using another data set to get details about airports. Details include infirmation such as State, City for given airport code\n",
    "- Let us analyze the Dataset to confirm if there is header and also how the data is structured."
   ]
  },
  {
   "cell_type": "code",
   "execution_count": 16,
   "metadata": {},
   "outputs": [
    {
     "name": "stdout",
     "output_type": "stream",
     "text": [
      "Found 1 items\n",
      "-rw-r--r--   2 hdfs hdfs      11411 2019-11-26 18:32 /public/airlines_all/airport-codes/airport-codes-na.txt\n"
     ]
    },
    {
     "data": {
      "text/plain": [
       "warning: there was one feature warning; re-run with -feature for details\n"
      ]
     },
     "metadata": {},
     "output_type": "display_data",
     "source": "user"
    },
    {
     "data": {
      "text/plain": [
       "0"
      ]
     },
     "execution_count": 16,
     "metadata": {},
     "output_type": "execute_result"
    }
   ],
   "source": [
    "\"hdfs dfs -ls /public/airlines_all/airport-codes\" !"
   ]
  },
  {
   "cell_type": "code",
   "execution_count": 5,
   "metadata": {},
   "outputs": [
    {
     "data": {
      "text/plain": [
       "airportCodesPath = /public/airlines_all/airport-codes\n"
      ]
     },
     "metadata": {},
     "output_type": "display_data",
     "source": "user"
    },
    {
     "data": {
      "text/plain": [
       "/public/airlines_all/airport-codes"
      ]
     },
     "execution_count": 5,
     "metadata": {},
     "output_type": "execute_result"
    }
   ],
   "source": [
    "val airportCodesPath = \"/public/airlines_all/airport-codes\""
   ]
  },
  {
   "cell_type": "code",
   "execution_count": 7,
   "metadata": {},
   "outputs": [
    {
     "name": "stdout",
     "output_type": "stream",
     "text": [
      "+-------------------------+\n",
      "|value                    |\n",
      "+-------------------------+\n",
      "|City\tState\tCountry\tIATA  |\n",
      "|Abbotsford\tBC\tCanada\tYXX |\n",
      "|Aberdeen\tSD\tUSA\tABR      |\n",
      "|Abilene\tTX\tUSA\tABI       |\n",
      "|Akron\tOH\tUSA\tCAK         |\n",
      "|Alamosa\tCO\tUSA\tALS       |\n",
      "|Albany\tGA\tUSA\tABY        |\n",
      "|Albany\tNY\tUSA\tALB        |\n",
      "|Albuquerque\tNM\tUSA\tABQ   |\n",
      "|Alexandria\tLA\tUSA\tAEX    |\n",
      "|Allentown\tPA\tUSA\tABE     |\n",
      "|Alliance\tNE\tUSA\tAIA      |\n",
      "|Alpena\tMI\tUSA\tAPN        |\n",
      "|Altoona\tPA\tUSA\tAOO       |\n",
      "|Amarillo\tTX\tUSA\tAMA      |\n",
      "|Anahim Lake\tBC\tCanada\tYAA|\n",
      "|Anchorage\tAK\tUSA\tANC     |\n",
      "|Appleton\tWI\tUSA\tATW      |\n",
      "|Arviat\tNWT\tCanada\tYEK    |\n",
      "|Asheville\tNC\tUSA\tAVL     |\n",
      "+-------------------------+\n",
      "only showing top 20 rows\n",
      "\n"
     ]
    }
   ],
   "source": [
    "spark.\n",
    "    read.\n",
    "    text(airportCodesPath).\n",
    "    show(false)"
   ]
  },
  {
   "cell_type": "markdown",
   "metadata": {},
   "source": [
    "- Data is tab seperated\n",
    "- There is header for the data set.\n",
    "- Dataset have 4 fields - **Country, State, City, IATA**"
   ]
  },
  {
   "cell_type": "code",
   "execution_count": 8,
   "metadata": {},
   "outputs": [
    {
     "data": {
      "text/plain": [
       "airportCodesPath = /public/airlines_all/airport-codes\n"
      ]
     },
     "metadata": {},
     "output_type": "display_data",
     "source": "user"
    },
    {
     "data": {
      "text/plain": [
       "/public/airlines_all/airport-codes"
      ]
     },
     "execution_count": 8,
     "metadata": {},
     "output_type": "execute_result"
    }
   ],
   "source": [
    "val airportCodesPath = \"/public/airlines_all/airport-codes\""
   ]
  },
  {
   "cell_type": "code",
   "execution_count": 9,
   "metadata": {},
   "outputs": [
    {
     "data": {
      "text/plain": [
       "airportCodes = [City: string, State: string ... 2 more fields]\n"
      ]
     },
     "metadata": {},
     "output_type": "display_data",
     "source": "user"
    },
    {
     "data": {
      "text/plain": [
       "[City: string, State: string ... 2 more fields]"
      ]
     },
     "execution_count": 9,
     "metadata": {},
     "output_type": "execute_result"
    }
   ],
   "source": [
    "val airportCodes = spark.\n",
    "    read.\n",
    "    option(\"sep\", \"\\t\").\n",
    "    option(\"header\", true).\n",
    "    option(\"inferSchema\", true).\n",
    "    csv(airportCodesPath)"
   ]
  },
  {
   "cell_type": "code",
   "execution_count": 10,
   "metadata": {},
   "outputs": [
    {
     "name": "stdout",
     "output_type": "stream",
     "text": [
      "root\n",
      " |-- City: string (nullable = true)\n",
      " |-- State: string (nullable = true)\n",
      " |-- Country: string (nullable = true)\n",
      " |-- IATA: string (nullable = true)\n",
      "\n"
     ]
    }
   ],
   "source": [
    "airportCodes.printSchema"
   ]
  },
  {
   "cell_type": "markdown",
   "metadata": {},
   "source": [
    "- Preview and understand the data"
   ]
  },
  {
   "cell_type": "code",
   "execution_count": 25,
   "metadata": {},
   "outputs": [
    {
     "name": "stdout",
     "output_type": "stream",
     "text": [
      "+-----------+-----+-------+----+\n",
      "|City       |State|Country|IATA|\n",
      "+-----------+-----+-------+----+\n",
      "|Abbotsford |BC   |Canada |YXX |\n",
      "|Aberdeen   |SD   |USA    |ABR |\n",
      "|Abilene    |TX   |USA    |ABI |\n",
      "|Akron      |OH   |USA    |CAK |\n",
      "|Alamosa    |CO   |USA    |ALS |\n",
      "|Albany     |GA   |USA    |ABY |\n",
      "|Albany     |NY   |USA    |ALB |\n",
      "|Albuquerque|NM   |USA    |ABQ |\n",
      "|Alexandria |LA   |USA    |AEX |\n",
      "|Allentown  |PA   |USA    |ABE |\n",
      "|Alliance   |NE   |USA    |AIA |\n",
      "|Alpena     |MI   |USA    |APN |\n",
      "|Altoona    |PA   |USA    |AOO |\n",
      "|Amarillo   |TX   |USA    |AMA |\n",
      "|Anahim Lake|BC   |Canada |YAA |\n",
      "|Anchorage  |AK   |USA    |ANC |\n",
      "|Appleton   |WI   |USA    |ATW |\n",
      "|Arviat     |NWT  |Canada |YEK |\n",
      "|Asheville  |NC   |USA    |AVL |\n",
      "|Aspen      |CO   |USA    |ASE |\n",
      "+-----------+-----+-------+----+\n",
      "only showing top 20 rows\n",
      "\n"
     ]
    }
   ],
   "source": [
    "airportCodes.show(false)"
   ]
  },
  {
   "cell_type": "code",
   "execution_count": 26,
   "metadata": {},
   "outputs": [
    {
     "data": {
      "text/plain": [
       "526"
      ]
     },
     "execution_count": 26,
     "metadata": {},
     "output_type": "execute_result"
    }
   ],
   "source": [
    "airportCodes.count"
   ]
  },
  {
   "cell_type": "markdown",
   "metadata": {},
   "source": [
    "- All the unique IATA codes"
   ]
  },
  {
   "cell_type": "code",
   "execution_count": 18,
   "metadata": {},
   "outputs": [
    {
     "data": {
      "text/plain": [
       "524"
      ]
     },
     "execution_count": 18,
     "metadata": {},
     "output_type": "execute_result"
    }
   ],
   "source": [
    "airportCodes.select(\"IATA\").\n",
    "    distinct.\n",
    "    count"
   ]
  },
  {
   "cell_type": "markdown",
   "metadata": {},
   "source": [
    "- If they are not equal, analyze the data and identify IATA codes which are reapeated more than once"
   ]
  },
  {
   "cell_type": "code",
   "execution_count": 11,
   "metadata": {},
   "outputs": [],
   "source": [
    "import org.apache.spark.sql.functions.{lit, count}"
   ]
  },
  {
   "cell_type": "code",
   "execution_count": 21,
   "metadata": {},
   "outputs": [
    {
     "name": "stdout",
     "output_type": "stream",
     "text": [
      "+----+----------+\n",
      "|IATA|iata_count|\n",
      "+----+----------+\n",
      "|Big |3         |\n",
      "+----+----------+\n",
      "\n"
     ]
    },
    {
     "data": {
      "text/plain": [
       "duplicateIATACount: Unit = ()\n"
      ]
     },
     "metadata": {},
     "output_type": "display_data",
     "source": "user"
    }
   ],
   "source": [
    "val duplicateIATACount = airportCodes.\n",
    "    groupBy(\"IATA\").\n",
    "    agg(count(lit(1)).alias(\"iata_count\")).\n",
    "    filter($\"iata_count\" > 1).\n",
    "    show(false)"
   ]
  },
  {
   "cell_type": "code",
   "execution_count": 22,
   "metadata": {},
   "outputs": [
    {
     "name": "stdout",
     "output_type": "stream",
     "text": [
      "+-----------+------+-------+----+\n",
      "|City       |State |Country|IATA|\n",
      "+-----------+------+-------+----+\n",
      "|Hilo       |HI    |USA    |Big |\n",
      "|Kailua-Kona|Hawaii|USA    |Big |\n",
      "|Kamuela    |Hawaii|USA    |Big |\n",
      "+-----------+------+-------+----+\n",
      "\n"
     ]
    }
   ],
   "source": [
    "airportCodes.\n",
    "    filter($\"IATA\" === \"Big\").\n",
    "    show(false)"
   ]
  },
  {
   "cell_type": "code",
   "execution_count": 23,
   "metadata": {},
   "outputs": [
    {
     "name": "stdout",
     "output_type": "stream",
     "text": [
      "+----+-----+-------+----+\n",
      "|City|State|Country|IATA|\n",
      "+----+-----+-------+----+\n",
      "|Hilo|HI   |USA    |Big |\n",
      "+----+-----+-------+----+\n",
      "\n"
     ]
    }
   ],
   "source": [
    "airportCodes.\n",
    "    filter($\"State\" =!= \"Hawaii\" and ($\"IATA\" === \"Big\")).\n",
    "    show(false)"
   ]
  },
  {
   "cell_type": "code",
   "execution_count": 24,
   "metadata": {},
   "outputs": [
    {
     "name": "stdout",
     "output_type": "stream",
     "text": [
      "+----+----------+\n",
      "|IATA|iata_count|\n",
      "+----+----------+\n",
      "|Big |3         |\n",
      "+----+----------+\n",
      "\n"
     ]
    },
    {
     "data": {
      "text/plain": [
       "duplicateIATACount: Unit = ()\n"
      ]
     },
     "metadata": {},
     "output_type": "display_data",
     "source": "user"
    }
   ],
   "source": [
    "val duplicateIATACount = airportCodes.\n",
    "    groupBy(\"IATA\").\n",
    "    agg(count(lit(1)).alias(\"iata_count\")).\n",
    "    filter($\"iata_count\" > 1).\n",
    "    show(false)"
   ]
  },
  {
   "cell_type": "code",
   "execution_count": 25,
   "metadata": {},
   "outputs": [
    {
     "data": {
      "text/plain": [
       "1"
      ]
     },
     "execution_count": 25,
     "metadata": {},
     "output_type": "execute_result"
    }
   ],
   "source": [
    " airportCodes. \n",
    "    filter($\"State\" =!= \"Hawaii\" and ($\"IATA\" === \"Big\")).\n",
    "    count"
   ]
  },
  {
   "cell_type": "code",
   "execution_count": 28,
   "metadata": {},
   "outputs": [
    {
     "data": {
      "text/plain": [
       "524"
      ]
     },
     "execution_count": 28,
     "metadata": {},
     "output_type": "execute_result"
    }
   ],
   "source": [
    "airportCodes.\n",
    "    filter(\"!(State = 'Hawaii' AND IATA = 'Big')\").\n",
    "    count"
   ]
  },
  {
   "cell_type": "markdown",
   "metadata": {},
   "source": [
    " - Get the number of airports (IATA Codes) for each state in US. Sort the data in descending order by count."
   ]
  },
  {
   "cell_type": "code",
   "execution_count": 32,
   "metadata": {},
   "outputs": [
    {
     "data": {
      "text/plain": [
       "airportCodesPath = /public/airlines_all/airport-codes\n"
      ]
     },
     "metadata": {},
     "output_type": "display_data",
     "source": "user"
    },
    {
     "data": {
      "text/plain": [
       "/public/airlines_all/airport-codes"
      ]
     },
     "execution_count": 32,
     "metadata": {},
     "output_type": "execute_result"
    }
   ],
   "source": [
    "val airportCodesPath = \"/public/airlines_all/airport-codes\""
   ]
  },
  {
   "cell_type": "code",
   "execution_count": 35,
   "metadata": {},
   "outputs": [
    {
     "data": {
      "text/plain": [
       "airportCodes = [City: string, State: string ... 2 more fields]\n"
      ]
     },
     "metadata": {},
     "output_type": "display_data",
     "source": "user"
    },
    {
     "data": {
      "text/plain": [
       "lastException: Throwable = null\n"
      ]
     },
     "metadata": {},
     "output_type": "display_data",
     "source": "user"
    },
    {
     "data": {
      "text/plain": [
       "[City: string, State: string ... 2 more fields]"
      ]
     },
     "execution_count": 35,
     "metadata": {},
     "output_type": "execute_result"
    }
   ],
   "source": [
    "val airportCodes = spark.\n",
    "    read.\n",
    "    option(\"sep\", \"\\t\").\n",
    "    option(\"header\", true).\n",
    "    option(\"inferSchema\", true).\n",
    "    csv(airportCodesPath).\n",
    "    filter(\"!(State = 'Hawaii' AND IATA = 'Big') AND Country = 'USA'\")    "
   ]
  },
  {
   "cell_type": "code",
   "execution_count": 36,
   "metadata": {},
   "outputs": [
    {
     "data": {
      "text/plain": [
       "443"
      ]
     },
     "execution_count": 36,
     "metadata": {},
     "output_type": "execute_result"
    }
   ],
   "source": [
    "airportCodes.count"
   ]
  },
  {
   "cell_type": "code",
   "execution_count": 44,
   "metadata": {},
   "outputs": [],
   "source": [
    "import org.apache.spark.sql.functions.{count, col, lit}"
   ]
  },
  {
   "cell_type": "code",
   "execution_count": 48,
   "metadata": {},
   "outputs": [
    {
     "data": {
      "text/plain": [
       "airportCountByState = [Country: string, State: string ... 1 more field]\n"
      ]
     },
     "metadata": {},
     "output_type": "display_data",
     "source": "user"
    },
    {
     "data": {
      "text/plain": [
       "[Country: string, State: string ... 1 more field]"
      ]
     },
     "execution_count": 48,
     "metadata": {},
     "output_type": "execute_result"
    }
   ],
   "source": [
    "val airportCountByState = airportCodes.\n",
    "    groupBy(\"Country\", \"State\").\n",
    "    agg(count(lit(1)).alias(\"IATACount\")).\n",
    "    orderBy($\"IATACount\".desc)"
   ]
  },
  {
   "cell_type": "code",
   "execution_count": 49,
   "metadata": {},
   "outputs": [
    {
     "name": "stdout",
     "output_type": "stream",
     "text": [
      "+-------+-----+---------+\n",
      "|Country|State|IATACount|\n",
      "+-------+-----+---------+\n",
      "|USA    |CA   |29       |\n",
      "|USA    |TX   |26       |\n",
      "|USA    |AK   |25       |\n",
      "|USA    |NY   |18       |\n",
      "|USA    |MI   |18       |\n",
      "|USA    |FL   |18       |\n",
      "|USA    |MT   |14       |\n",
      "|USA    |PA   |13       |\n",
      "|USA    |IL   |12       |\n",
      "|USA    |CO   |12       |\n",
      "|USA    |WY   |10       |\n",
      "|USA    |NC   |10       |\n",
      "|USA    |WI   |9        |\n",
      "|USA    |NE   |9        |\n",
      "|USA    |GA   |9        |\n",
      "|USA    |NM   |9        |\n",
      "|USA    |HI   |9        |\n",
      "|USA    |WA   |9        |\n",
      "|USA    |KS   |9        |\n",
      "|USA    |ND   |8        |\n",
      "|USA    |MO   |8        |\n",
      "|USA    |AR   |8        |\n",
      "|USA    |MA   |8        |\n",
      "|USA    |MN   |8        |\n",
      "|USA    |AZ   |8        |\n",
      "|USA    |WV   |8        |\n",
      "|USA    |IA   |8        |\n",
      "|USA    |SD   |7        |\n",
      "|USA    |ME   |7        |\n",
      "|USA    |VA   |7        |\n",
      "|USA    |LA   |7        |\n",
      "|USA    |MS   |7        |\n",
      "|USA    |OR   |7        |\n",
      "|USA    |TN   |6        |\n",
      "|USA    |AL   |6        |\n",
      "|USA    |OH   |6        |\n",
      "|USA    |IN   |6        |\n",
      "|USA    |ID   |6        |\n",
      "|USA    |SC   |6        |\n",
      "|USA    |OK   |5        |\n",
      "|USA    |KY   |4        |\n",
      "|USA    |VT   |3        |\n",
      "|USA    |NV   |3        |\n",
      "|USA    |NJ   |3        |\n",
      "|USA    |NH   |3        |\n",
      "|USA    |MD   |3        |\n",
      "|USA    |null |3        |\n",
      "|USA    |UT   |2        |\n",
      "|USA    |CT   |2        |\n",
      "|USA    |DE   |1        |\n",
      "|USA    |RI   |1        |\n",
      "+-------+-----+---------+\n",
      "\n"
     ]
    }
   ],
   "source": [
    "airportCountByState.show(51, false)"
   ]
  },
  {
   "cell_type": "markdown",
   "metadata": {},
   "source": [
    "## Joining Data Sets"
   ]
  },
  {
   "cell_type": "markdown",
   "metadata": {},
   "source": [
    "## Problem Statements"
   ]
  },
  {
   "cell_type": "markdown",
   "metadata": {},
   "source": [
    "Let us understand how to join Data Frames by using some problem statements. We will use 2008 January airlines data along with Airport Codes"
   ]
  },
  {
   "cell_type": "markdown",
   "metadata": {},
   "source": [
    "- Get the number of flights departed from each of the US airport.\n",
    "- Get the number of flights departed from each of the state.\n",
    "- Get the list of airports in the US from which flights are not departed.\n",
    "- Check if there are any origins in airlines data which do not have record in airport-codes.\n",
    "- Get the total number of the flights from the airports that do not contain entries in airport-codes.\n",
    "- Get the total number of flights per airport that do not contain entries in airport-codes."
   ]
  },
  {
   "cell_type": "markdown",
   "metadata": {},
   "source": [
    "## Overview Of JOINS "
   ]
  },
  {
   "cell_type": "markdown",
   "metadata": {},
   "source": [
    "Let us get an overview of joining Data Frames.\n",
    " - Our data cannot be staored in one table. It will be stored in multiple tables and the tables might be related.\n",
    "  - When it comes to transactional systems, we typically define tables based on Normalization\n",
    "  - When it comes datewarehousing applications, we typically define tables using Dimensional Modeling.\n",
    "  - Either of the approach data is scattered into multiple tables and relationships are defined.\n",
    "  - Typically tables are related to one to one, one to many, many to many relationships.\n",
    " - When we have 2 Data Sets that are related based on common key we typically perform join.\n",
    " - There are different types of JOINS:\n",
    "  - INNER JOIN\n",
    "  - OUTER JOIN(LEFT or RIGHT)\n",
    "  - FULL OUTER JOIN(a LEFT OUTER JOI b UNION a RIGHT OUTER JOIN b)"
   ]
  },
  {
   "cell_type": "markdown",
   "metadata": {},
   "source": [
    "## Solution - Problem 1 "
   ]
  },
  {
   "cell_type": "markdown",
   "metadata": {},
   "source": [
    "Get the number of flights departed from each of the US airport in the month of 2008 January."
   ]
  },
  {
   "cell_type": "markdown",
   "metadata": {},
   "source": [
    " - We have to use airport codes to determine US airports.\n",
    " - We need to use airlines data to get departure details. \n",
    " - To solve this problem we have to use INNER join."
   ]
  },
  {
   "cell_type": "code",
   "execution_count": 5,
   "metadata": {},
   "outputs": [
    {
     "data": {
      "text/plain": [
       "airlinesPath = /public/airlines_all/airlines-part/flightmonth=200801\n"
      ]
     },
     "metadata": {},
     "output_type": "display_data",
     "source": "user"
    },
    {
     "data": {
      "text/plain": [
       "/public/airlines_all/airlines-part/flightmonth=200801"
      ]
     },
     "execution_count": 5,
     "metadata": {},
     "output_type": "execute_result"
    }
   ],
   "source": [
    "val airlinesPath = \"/public/airlines_all/airlines-part/flightmonth=200801\""
   ]
  },
  {
   "cell_type": "code",
   "execution_count": 6,
   "metadata": {},
   "outputs": [
    {
     "data": {
      "text/plain": [
       "airlines = [Year: int, Month: int ... 29 more fields]\n"
      ]
     },
     "metadata": {},
     "output_type": "display_data",
     "source": "user"
    },
    {
     "data": {
      "text/plain": [
       "[Year: int, Month: int ... 29 more fields]"
      ]
     },
     "execution_count": 6,
     "metadata": {},
     "output_type": "execute_result"
    }
   ],
   "source": [
    "val airlines = spark.\n",
    "    read.\n",
    "    parquet(airlinesPath)"
   ]
  },
  {
   "cell_type": "code",
   "execution_count": 14,
   "metadata": {},
   "outputs": [
    {
     "name": "stdout",
     "output_type": "stream",
     "text": [
      "root\n",
      " |-- Year: integer (nullable = true)\n",
      " |-- Month: integer (nullable = true)\n",
      " |-- DayofMonth: integer (nullable = true)\n",
      " |-- DayOfWeek: integer (nullable = true)\n",
      " |-- DepTime: string (nullable = true)\n",
      " |-- CRSDepTime: integer (nullable = true)\n",
      " |-- ArrTime: string (nullable = true)\n",
      " |-- CRSArrTime: integer (nullable = true)\n",
      " |-- UniqueCarrier: string (nullable = true)\n",
      " |-- FlightNum: integer (nullable = true)\n",
      " |-- TailNum: string (nullable = true)\n",
      " |-- ActualElapsedTime: string (nullable = true)\n",
      " |-- CRSElapsedTime: integer (nullable = true)\n",
      " |-- AirTime: string (nullable = true)\n",
      " |-- ArrDelay: string (nullable = true)\n",
      " |-- DepDelay: string (nullable = true)\n",
      " |-- Origin: string (nullable = true)\n",
      " |-- Dest: string (nullable = true)\n",
      " |-- Distance: string (nullable = true)\n",
      " |-- TaxiIn: string (nullable = true)\n",
      " |-- TaxiOut: string (nullable = true)\n",
      " |-- Cancelled: integer (nullable = true)\n",
      " |-- CancellationCode: string (nullable = true)\n",
      " |-- Diverted: integer (nullable = true)\n",
      " |-- CarrierDelay: string (nullable = true)\n",
      " |-- WeatherDelay: string (nullable = true)\n",
      " |-- NASDelay: string (nullable = true)\n",
      " |-- SecurityDelay: string (nullable = true)\n",
      " |-- LateAircraftDelay: string (nullable = true)\n",
      " |-- IsArrDelayed: string (nullable = true)\n",
      " |-- IsDepDelayed: string (nullable = true)\n",
      "\n"
     ]
    }
   ],
   "source": [
    "airlines.printSchema"
   ]
  },
  {
   "cell_type": "code",
   "execution_count": 16,
   "metadata": {},
   "outputs": [
    {
     "name": "stdout",
     "output_type": "stream",
     "text": [
      "+----+-----+----------+------+----+----------+\n",
      "|Year|Month|DayofMonth|Origin|Dest|CRSDepTime|\n",
      "+----+-----+----------+------+----+----------+\n",
      "|2008|1    |16        |BGR   |CVG |1735      |\n",
      "|2008|1    |17        |SYR   |CVG |1701      |\n",
      "|2008|1    |17        |SAV   |BOS |1225      |\n",
      "|2008|1    |17        |CVG   |GRR |1530      |\n",
      "|2008|1    |17        |STL   |CVG |1205      |\n",
      "|2008|1    |18        |STL   |JFK |1150      |\n",
      "|2008|1    |18        |MCI   |CVG |1009      |\n",
      "|2008|1    |19        |TUL   |CVG |835       |\n",
      "|2008|1    |20        |JFK   |PHL |1935      |\n",
      "|2008|1    |20        |RDU   |CVG |830       |\n",
      "|2008|1    |21        |CVG   |DTW |1640      |\n",
      "|2008|1    |21        |MSY   |LGA |1204      |\n",
      "|2008|1    |21        |JFK   |PHL |1935      |\n",
      "|2008|1    |21        |DCA   |JFK |1830      |\n",
      "|2008|1    |21        |HSV   |DCA |700       |\n",
      "|2008|1    |22        |ORD   |CVG |1910      |\n",
      "|2008|1    |22        |CVG   |JFK |1320      |\n",
      "|2008|1    |23        |LGA   |SAV |908       |\n",
      "|2008|1    |23        |CLT   |CVG |1252      |\n",
      "|2008|1    |23        |GSP   |LGA |635       |\n",
      "+----+-----+----------+------+----+----------+\n",
      "only showing top 20 rows\n",
      "\n"
     ]
    }
   ],
   "source": [
    "airlines.select(\"Year\", \"Month\", \"DayofMonth\", \"Origin\", \"Dest\", \"CRSDepTime\").show(false)"
   ]
  },
  {
   "cell_type": "code",
   "execution_count": 17,
   "metadata": {},
   "outputs": [
    {
     "data": {
      "text/plain": [
       "605659"
      ]
     },
     "execution_count": 17,
     "metadata": {},
     "output_type": "execute_result"
    }
   ],
   "source": [
    "airlines.count"
   ]
  },
  {
   "cell_type": "code",
   "execution_count": 7,
   "metadata": {},
   "outputs": [
    {
     "data": {
      "text/plain": [
       "airportCodesPath = /public/airlines_all/airport-codes\n"
      ]
     },
     "metadata": {},
     "output_type": "display_data",
     "source": "user"
    },
    {
     "data": {
      "text/plain": [
       "/public/airlines_all/airport-codes"
      ]
     },
     "execution_count": 7,
     "metadata": {},
     "output_type": "execute_result"
    }
   ],
   "source": [
    "val airportCodesPath = \"/public/airlines_all/airport-codes\""
   ]
  },
  {
   "cell_type": "code",
   "execution_count": 58,
   "metadata": {},
   "outputs": [
    {
     "name": "stdout",
     "output_type": "stream",
     "text": [
      "Found 1 items\n",
      "-rw-r--r--   2 hdfs hdfs      11411 2019-11-26 18:32 /public/airlines_all/airport-codes/airport-codes-na.txt\n"
     ]
    },
    {
     "data": {
      "text/plain": [
       "warning: there was one feature warning; re-run with -feature for details\n"
      ]
     },
     "metadata": {},
     "output_type": "display_data",
     "source": "user"
    },
    {
     "data": {
      "text/plain": [
       "0"
      ]
     },
     "execution_count": 58,
     "metadata": {},
     "output_type": "execute_result"
    }
   ],
   "source": [
    "\"hdfs dfs -ls /public/airlines_all/airport-codes\" !"
   ]
  },
  {
   "cell_type": "code",
   "execution_count": 8,
   "metadata": {},
   "outputs": [
    {
     "data": {
      "text/plain": [
       "getValidAirportCodes: (airportCodesPath: String)org.apache.spark.sql.Dataset[org.apache.spark.sql.Row]\n"
      ]
     },
     "metadata": {},
     "output_type": "display_data",
     "source": "user"
    }
   ],
   "source": [
    "def getValidAirportCodes(airportCodesPath: String) = {\n",
    "    val airportCodes = spark.\n",
    "    read.\n",
    "    option(\"sep\", \"\\t\").\n",
    "    option(\"header\", true).\n",
    "    option(\"inferSchema\", true).\n",
    "    csv(airportCodesPath).\n",
    "    filter(\"!(State = 'Hawaii' AND IATA = 'Big') AND Country = 'USA'\")\n",
    "    airportCodes   \n",
    "}"
   ]
  },
  {
   "cell_type": "code",
   "execution_count": 13,
   "metadata": {},
   "outputs": [
    {
     "data": {
      "text/plain": [
       "airportCodes = [City: string, State: string ... 2 more fields]\n"
      ]
     },
     "metadata": {},
     "output_type": "display_data",
     "source": "user"
    },
    {
     "data": {
      "text/plain": [
       "[City: string, State: string ... 2 more fields]"
      ]
     },
     "execution_count": 13,
     "metadata": {},
     "output_type": "execute_result"
    }
   ],
   "source": [
    "val airportCodes = getValidAirportCodes(airportCodesPath)"
   ]
  },
  {
   "cell_type": "code",
   "execution_count": 14,
   "metadata": {},
   "outputs": [
    {
     "data": {
      "text/plain": [
       "443"
      ]
     },
     "execution_count": 14,
     "metadata": {},
     "output_type": "execute_result"
    }
   ],
   "source": [
    "airportCodes.count"
   ]
  },
  {
   "cell_type": "code",
   "execution_count": 15,
   "metadata": {},
   "outputs": [],
   "source": [
    "import org.apache.spark.sql.functions.{col, lit, count}"
   ]
  },
  {
   "cell_type": "code",
   "execution_count": 22,
   "metadata": {},
   "outputs": [
    {
     "name": "stdout",
     "output_type": "stream",
     "text": [
      "+----+-----+----------+-------------+-----+-------+----+----------+\n",
      "|Year|Month|DayOfMonth|City         |State|Country|IATA|CRSDepTime|\n",
      "+----+-----+----------+-------------+-----+-------+----+----------+\n",
      "|2008|1    |16        |Bangor       |ME   |USA    |BGR |1735      |\n",
      "|2008|1    |17        |Syracuse     |NY   |USA    |SYR |1701      |\n",
      "|2008|1    |17        |Savannah     |GA   |USA    |SAV |1225      |\n",
      "|2008|1    |17        |Cincinnati   |OH   |USA    |CVG |1530      |\n",
      "|2008|1    |17        |St. Louis    |MO   |USA    |STL |1205      |\n",
      "|2008|1    |18        |St. Louis    |MO   |USA    |STL |1150      |\n",
      "|2008|1    |18        |Kansas City  |MO   |USA    |MCI |1009      |\n",
      "|2008|1    |19        |Tulsa        |OK   |USA    |TUL |835       |\n",
      "|2008|1    |20        |New York     |NY   |USA    |JFK |1935      |\n",
      "|2008|1    |20        |Raleigh      |NC   |USA    |RDU |830       |\n",
      "|2008|1    |21        |Cincinnati   |OH   |USA    |CVG |1640      |\n",
      "|2008|1    |21        |New Orleans  |LA   |USA    |MSY |1204      |\n",
      "|2008|1    |21        |New York     |NY   |USA    |JFK |1935      |\n",
      "|2008|1    |21        |Washington DC|null |USA    |DCA |1830      |\n",
      "|2008|1    |21        |Huntsville   |AL   |USA    |HSV |700       |\n",
      "|2008|1    |22        |Chicago      |IL   |USA    |ORD |1910      |\n",
      "|2008|1    |22        |Cincinnati   |OH   |USA    |CVG |1320      |\n",
      "|2008|1    |23        |New York     |NY   |USA    |LGA |908       |\n",
      "|2008|1    |23        |Charlotte    |NC   |USA    |CLT |1252      |\n",
      "|2008|1    |23        |Greenville   |SC   |USA    |GSP |635       |\n",
      "+----+-----+----------+-------------+-----+-------+----+----------+\n",
      "only showing top 20 rows\n",
      "\n"
     ]
    }
   ],
   "source": [
    "airlines.\n",
    "    join(airportCodes, airportCodes(\"IATA\") === airlines(\"Origin\") ).\n",
    "    select(col(\"Year\"), col(\"Month\"), col(\"DayOfMonth\"), airportCodes(\"*\"), col(\"CRSDepTime\")).\n",
    "    show(false)"
   ]
  },
  {
   "cell_type": "code",
   "execution_count": 25,
   "metadata": {},
   "outputs": [
    {
     "name": "stdout",
     "output_type": "stream",
     "text": [
      "+------+-----------+\n",
      "|Origin|FlightCount|\n",
      "+------+-----------+\n",
      "|ATL   |33897      |\n",
      "|ORD   |29936      |\n",
      "|DFW   |23861      |\n",
      "|DEN   |19477      |\n",
      "|LAX   |18945      |\n",
      "|PHX   |17695      |\n",
      "|IAH   |15531      |\n",
      "|LAS   |15292      |\n",
      "|DTW   |14357      |\n",
      "|EWR   |12467      |\n",
      "|SLC   |12401      |\n",
      "|MSP   |11800      |\n",
      "|SFO   |11573      |\n",
      "|MCO   |11070      |\n",
      "|CLT   |10752      |\n",
      "|LGA   |10300      |\n",
      "|JFK   |10023      |\n",
      "|BOS   |9717       |\n",
      "|BWI   |8883       |\n",
      "|CVG   |8659       |\n",
      "+------+-----------+\n",
      "only showing top 20 rows\n",
      "\n"
     ]
    },
    {
     "data": {
      "text/plain": [
       "lastException: Throwable = null\n"
      ]
     },
     "metadata": {},
     "output_type": "display_data",
     "source": "user"
    }
   ],
   "source": [
    "airlines.\n",
    "    join(airportCodes, airportCodes(\"IATA\") === airlines(\"Origin\") ).\n",
    "    groupBy(\"Origin\").\n",
    "    agg(count(lit(1)).alias(\"FlightCount\")).\n",
    "    orderBy(col(\"FlightCount\").desc).\n",
    "    show(false)"
   ]
  },
  {
   "cell_type": "markdown",
   "metadata": {},
   "source": [
    "## Solution - Problem 2"
   ]
  },
  {
   "cell_type": "markdown",
   "metadata": {},
   "source": [
    "Get numbers of flights departed from each of the US state in the month of 2008 January"
   ]
  },
  {
   "cell_type": "markdown",
   "metadata": {},
   "source": [
    "- We need to use airport codes to determine state of each the US airport.\n",
    "- We need to use airlines data to get departure details.\n",
    "- To solve this problem we have to perform inner join."
   ]
  },
  {
   "cell_type": "code",
   "execution_count": 10,
   "metadata": {},
   "outputs": [
    {
     "data": {
      "text/plain": [
       "airlinesPath = /public/airlines_all/airlines-part/flightmonth=200801\n"
      ]
     },
     "metadata": {},
     "output_type": "display_data",
     "source": "user"
    },
    {
     "data": {
      "text/plain": [
       "/public/airlines_all/airlines-part/flightmonth=200801"
      ]
     },
     "execution_count": 10,
     "metadata": {},
     "output_type": "execute_result"
    }
   ],
   "source": [
    "val airlinesPath = \"/public/airlines_all/airlines-part/flightmonth=200801\""
   ]
  },
  {
   "cell_type": "code",
   "execution_count": 11,
   "metadata": {},
   "outputs": [
    {
     "data": {
      "text/plain": [
       "airlines = [Year: int, Month: int ... 29 more fields]\n"
      ]
     },
     "metadata": {},
     "output_type": "display_data",
     "source": "user"
    },
    {
     "data": {
      "text/plain": [
       "[Year: int, Month: int ... 29 more fields]"
      ]
     },
     "execution_count": 11,
     "metadata": {},
     "output_type": "execute_result"
    }
   ],
   "source": [
    "val airlines = spark.\n",
    "    read.\n",
    "    parquet(airlinesPath)"
   ]
  },
  {
   "cell_type": "code",
   "execution_count": 12,
   "metadata": {},
   "outputs": [
    {
     "data": {
      "text/plain": [
       "airportCodesPath = /public/airlines_all/airport-codes\n"
      ]
     },
     "metadata": {},
     "output_type": "display_data",
     "source": "user"
    },
    {
     "data": {
      "text/plain": [
       "/public/airlines_all/airport-codes"
      ]
     },
     "execution_count": 12,
     "metadata": {},
     "output_type": "execute_result"
    }
   ],
   "source": [
    "val airportCodesPath = \"/public/airlines_all/airport-codes\""
   ]
  },
  {
   "cell_type": "code",
   "execution_count": 13,
   "metadata": {},
   "outputs": [
    {
     "data": {
      "text/plain": [
       "getValidAirportCodes: (airportCodesPath: String)org.apache.spark.sql.Dataset[org.apache.spark.sql.Row]\n"
      ]
     },
     "metadata": {},
     "output_type": "display_data",
     "source": "user"
    }
   ],
   "source": [
    "def getValidAirportCodes(airportCodesPath: String) = {\n",
    "    val airportCodes = spark.\n",
    "    read.\n",
    "    option(\"sep\", \"\\t\").\n",
    "    option(\"header\", true).\n",
    "    option(\"inferSchema\", true).\n",
    "    csv(airportCodesPath).\n",
    "    filter(\"!(State = 'Hawaii' AND IATA = 'Big') AND Country = 'USA'\")\n",
    "    airportCodes   \n",
    "}"
   ]
  },
  {
   "cell_type": "code",
   "execution_count": 18,
   "metadata": {},
   "outputs": [
    {
     "data": {
      "text/plain": [
       "airportCodes = [City: string, State: string ... 2 more fields]\n"
      ]
     },
     "metadata": {},
     "output_type": "display_data",
     "source": "user"
    },
    {
     "data": {
      "text/plain": [
       "[City: string, State: string ... 2 more fields]"
      ]
     },
     "execution_count": 18,
     "metadata": {},
     "output_type": "execute_result"
    }
   ],
   "source": [
    "val airportCodes = getValidAirportCodes(airportCodesPath)"
   ]
  },
  {
   "cell_type": "code",
   "execution_count": 15,
   "metadata": {},
   "outputs": [],
   "source": [
    "import org.apache.spark.sql.functions.{col, lit, count}"
   ]
  },
  {
   "cell_type": "code",
   "execution_count": 26,
   "metadata": {},
   "outputs": [
    {
     "name": "stdout",
     "output_type": "stream",
     "text": [
      "+-----+-----------+\n",
      "|State|FlightCount|\n",
      "+-----+-----------+\n",
      "|   CA|      72853|\n",
      "|   TX|      63930|\n",
      "|   FL|      41042|\n",
      "|   IL|      39812|\n",
      "|   GA|      35527|\n",
      "|   NY|      28414|\n",
      "|   CO|      23288|\n",
      "|   AZ|      20768|\n",
      "|   OH|      19209|\n",
      "|   NC|      17942|\n",
      "|   MI|      17824|\n",
      "|   NV|      17763|\n",
      "| null|      14090|\n",
      "|   TN|      13549|\n",
      "|   PA|      13491|\n",
      "|   UT|      12709|\n",
      "|   NJ|      12498|\n",
      "|   MN|      12357|\n",
      "|   MO|      11808|\n",
      "|   WA|      10210|\n",
      "+-----+-----------+\n",
      "only showing top 20 rows\n",
      "\n"
     ]
    }
   ],
   "source": [
    "airlines.\n",
    "    join(airportCodes, col(\"IATA\") === col(\"Origin\"), \"inner\").\n",
    "    groupBy(\"State\").\n",
    "    agg(count(lit(1)).alias(\"FlightCount\")).\n",
    "    orderBy(col(\"FlightCount\").desc).\n",
    "    show"
   ]
  },
  {
   "cell_type": "code",
   "execution_count": 21,
   "metadata": {},
   "outputs": [
    {
     "name": "stdout",
     "output_type": "stream",
     "text": [
      "+-------------+-----+-------+----+\n",
      "|City         |State|Country|IATA|\n",
      "+-------------+-----+-------+----+\n",
      "|Aberdeen     |SD   |USA    |ABR |\n",
      "|Abilene      |TX   |USA    |ABI |\n",
      "|Akron        |OH   |USA    |CAK |\n",
      "|Alamosa      |CO   |USA    |ALS |\n",
      "|Albany       |GA   |USA    |ABY |\n",
      "|Albany       |NY   |USA    |ALB |\n",
      "|Albuquerque  |NM   |USA    |ABQ |\n",
      "|Alexandria   |LA   |USA    |AEX |\n",
      "|Allentown    |PA   |USA    |ABE |\n",
      "|Alliance     |NE   |USA    |AIA |\n",
      "|Alpena       |MI   |USA    |APN |\n",
      "|Altoona      |PA   |USA    |AOO |\n",
      "|Amarillo     |TX   |USA    |AMA |\n",
      "|Anchorage    |AK   |USA    |ANC |\n",
      "|Appleton     |WI   |USA    |ATW |\n",
      "|Asheville    |NC   |USA    |AVL |\n",
      "|Aspen        |CO   |USA    |ASE |\n",
      "|Athens       |GA   |USA    |AHN |\n",
      "|Atlanta      |GA   |USA    |ATL |\n",
      "|Atlantic City|NJ   |USA    |ACY |\n",
      "+-------------+-----+-------+----+\n",
      "only showing top 20 rows\n",
      "\n"
     ]
    }
   ],
   "source": [
    "airportCodes.show(false)"
   ]
  },
  {
   "cell_type": "code",
   "execution_count": 22,
   "metadata": {},
   "outputs": [
    {
     "name": "stdout",
     "output_type": "stream",
     "text": [
      "+-------------+-----+-------+----+\n",
      "|         City|State|Country|IATA|\n",
      "+-------------+-----+-------+----+\n",
      "|Washington DC| null|    USA| IAD|\n",
      "|Washington DC| null|    USA| DCA|\n",
      "|Washington DC| null|    USA| WAS|\n",
      "+-------------+-----+-------+----+\n",
      "\n"
     ]
    }
   ],
   "source": [
    "airportCodes.filter(\"State IS NULL\").show"
   ]
  },
  {
   "cell_type": "code",
   "execution_count": 25,
   "metadata": {},
   "outputs": [
    {
     "data": {
      "text/plain": [
       "warning: there was one feature warning; re-run with -feature for details\n"
      ]
     },
     "metadata": {},
     "output_type": "display_data",
     "source": "user"
    },
    {
     "name": "stdout",
     "output_type": "stream",
     "text": [
      "+-------------+-----+-------+----+\n",
      "|         City|State|Country|IATA|\n",
      "+-------------+-----+-------+----+\n",
      "|Washington DC| null|    USA| IAD|\n",
      "|Washington DC| null|    USA| DCA|\n",
      "|Washington DC| null|    USA| WAS|\n",
      "+-------------+-----+-------+----+\n",
      "\n"
     ]
    }
   ],
   "source": [
    "airportCodes.filter(col(\"State\") isNull).show"
   ]
  },
  {
   "cell_type": "markdown",
   "metadata": {},
   "source": [
    "## Solution - Problem 3"
   ]
  },
  {
   "cell_type": "markdown",
   "metadata": {},
   "source": [
    "Get the list of airports in the US from which flights are not departed in the month of 2008 January"
   ]
  },
  {
   "cell_type": "markdown",
   "metadata": {},
   "source": [
    "- This is an example of outer join.\n",
    "- We need to get those airports which are in airport codes but not in 2008 January airlines data set.\n",
    "- Based on the side of airport codes data set, we can say left or right. We will be using airport codes as the driving data set and hence we will use left outer join"
   ]
  },
  {
   "cell_type": "code",
   "execution_count": 13,
   "metadata": {},
   "outputs": [],
   "source": [
    "import org.apache.spark.sql.functions.{col, lit, count}"
   ]
  },
  {
   "cell_type": "code",
   "execution_count": 5,
   "metadata": {},
   "outputs": [
    {
     "data": {
      "text/plain": [
       "airlinesPath = /public/airlines_all/airlines-part/flightmonth=200801\n"
      ]
     },
     "metadata": {},
     "output_type": "display_data",
     "source": "user"
    },
    {
     "data": {
      "text/plain": [
       "/public/airlines_all/airlines-part/flightmonth=200801"
      ]
     },
     "execution_count": 5,
     "metadata": {},
     "output_type": "execute_result"
    }
   ],
   "source": [
    "val airlinesPath = \"/public/airlines_all/airlines-part/flightmonth=200801\""
   ]
  },
  {
   "cell_type": "code",
   "execution_count": 8,
   "metadata": {},
   "outputs": [
    {
     "data": {
      "text/plain": [
       "airlines = [Year: int, Month: int ... 29 more fields]\n"
      ]
     },
     "metadata": {},
     "output_type": "display_data",
     "source": "user"
    },
    {
     "data": {
      "text/plain": [
       "[Year: int, Month: int ... 29 more fields]"
      ]
     },
     "execution_count": 8,
     "metadata": {},
     "output_type": "execute_result"
    }
   ],
   "source": [
    "val airlines = spark.\n",
    "    read.\n",
    "    parquet(airlinesPath)"
   ]
  },
  {
   "cell_type": "code",
   "execution_count": 9,
   "metadata": {},
   "outputs": [
    {
     "data": {
      "text/plain": [
       "airportCodesPath = /public/airlines_all/airport-codes\n"
      ]
     },
     "metadata": {},
     "output_type": "display_data",
     "source": "user"
    },
    {
     "data": {
      "text/plain": [
       "/public/airlines_all/airport-codes"
      ]
     },
     "execution_count": 9,
     "metadata": {},
     "output_type": "execute_result"
    }
   ],
   "source": [
    "val airportCodesPath = \"/public/airlines_all/airport-codes\""
   ]
  },
  {
   "cell_type": "code",
   "execution_count": 10,
   "metadata": {},
   "outputs": [
    {
     "data": {
      "text/plain": [
       "getValidAirportCodes: (airportCodesPath: String)org.apache.spark.sql.Dataset[org.apache.spark.sql.Row]\n"
      ]
     },
     "metadata": {},
     "output_type": "display_data",
     "source": "user"
    }
   ],
   "source": [
    "def getValidAirportCodes(airportCodesPath: String) = {\n",
    "    val airportCodes = spark.\n",
    "    read.\n",
    "    option(\"sep\", \"\\t\").\n",
    "    option(\"header\", true).\n",
    "    option(\"inferSchema\", true).\n",
    "    csv(airportCodesPath).\n",
    "    filter(\"!(State = 'Hawaii' AND IATA = 'Big') AND Country = 'USA'\")\n",
    "    airportCodes   \n",
    "}"
   ]
  },
  {
   "cell_type": "code",
   "execution_count": 11,
   "metadata": {},
   "outputs": [
    {
     "data": {
      "text/plain": [
       "airportCodes = [City: string, State: string ... 2 more fields]\n"
      ]
     },
     "metadata": {},
     "output_type": "display_data",
     "source": "user"
    },
    {
     "data": {
      "text/plain": [
       "[City: string, State: string ... 2 more fields]"
      ]
     },
     "execution_count": 11,
     "metadata": {},
     "output_type": "execute_result"
    }
   ],
   "source": [
    "val airportCodes = getValidAirportCodes(airportCodesPath)"
   ]
  },
  {
   "cell_type": "code",
   "execution_count": 15,
   "metadata": {},
   "outputs": [
    {
     "data": {
      "text/plain": [
       "443"
      ]
     },
     "execution_count": 15,
     "metadata": {},
     "output_type": "execute_result"
    }
   ],
   "source": [
    "airportCodes.count"
   ]
  },
  {
   "cell_type": "code",
   "execution_count": 17,
   "metadata": {},
   "outputs": [
    {
     "name": "stdout",
     "output_type": "stream",
     "text": [
      "+--------------+-----+-------+----+------+\n",
      "|City          |State|Country|IATA|Origin|\n",
      "+--------------+-----+-------+----+------+\n",
      "|Aberdeen      |SD   |USA    |ABR |null  |\n",
      "|Alamosa       |CO   |USA    |ALS |null  |\n",
      "|Alliance      |NE   |USA    |AIA |null  |\n",
      "|Alpena        |MI   |USA    |APN |null  |\n",
      "|Altoona       |PA   |USA    |AOO |null  |\n",
      "|Athens        |GA   |USA    |AHN |null  |\n",
      "|Augusta       |ME   |USA    |AUG |null  |\n",
      "|Bar Harbor    |ME   |USA    |BHB |null  |\n",
      "|Beckley       |WV   |USA    |BKW |null  |\n",
      "|Bedford       |MA   |USA    |BED |null  |\n",
      "|Bemidji       |MN   |USA    |BJI |null  |\n",
      "|Bettles       |AK   |USA    |BTT |null  |\n",
      "|Bloomington   |IN   |USA    |BMG |null  |\n",
      "|Bluefield     |WV   |USA    |BLF |null  |\n",
      "|Brookings     |SD   |USA    |BKX |null  |\n",
      "|Burlington    |IA   |USA    |BRL |null  |\n",
      "|Burlington    |MA   |USA    |BBF |null  |\n",
      "|Cape Girardeau|MO   |USA    |CGI |null  |\n",
      "|Carlsbad      |NM   |USA    |CNM |null  |\n",
      "|Cheyenne      |WY   |USA    |CYS |null  |\n",
      "+--------------+-----+-------+----+------+\n",
      "only showing top 20 rows\n",
      "\n"
     ]
    }
   ],
   "source": [
    "airportCodes.\n",
    "    join(airlines, col(\"IATA\") === col(\"Origin\"), \"left\").\n",
    "    filter(\"Origin IS NULL\").\n",
    "    select(airportCodes(\"*\"), col(\"Origin\")).\n",
    "    show(false)"
   ]
  }
 ],
 "metadata": {
  "kernelspec": {
   "display_name": "Apache Toree - Scala",
   "language": "scala",
   "name": "apache_toree_scala"
  },
  "language_info": {
   "codemirror_mode": "text/x-scala",
   "file_extension": ".scala",
   "mimetype": "text/x-scala",
   "name": "scala",
   "pygments_lexer": "scala",
   "version": "2.11.12"
  }
 },
 "nbformat": 4,
 "nbformat_minor": 4
}
